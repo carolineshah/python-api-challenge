{
 "cells": [
  {
   "cell_type": "markdown",
   "metadata": {},
   "source": [
    "# WeatherPy\n",
    "----\n",
    "\n",
    "#### Note\n",
    "* Instructions have been included for each segment. You do not have to follow them exactly, but they are included to help you think through the steps."
   ]
  },
  {
   "cell_type": "code",
   "execution_count": 1,
   "metadata": {
    "scrolled": true
   },
   "outputs": [],
   "source": [
    "# Dependencies and Setup\n",
    "import matplotlib.pyplot as plt\n",
    "import pandas as pd\n",
    "import numpy as np\n",
    "import requests\n",
    "import time\n",
    "from scipy.stats import linregress\n",
    "from pprint import pprint\n",
    "\n",
    "# Import API key\n",
    "from api_keys import weather_api_key\n",
    "\n",
    "# Incorporated citipy to determine city based on latitude and longitude\n",
    "from citipy import citipy\n",
    "\n",
    "# Output File (CSV)\n",
    "output_data_file = \"output_data/cities.csv\"\n",
    "\n",
    "# Range of latitudes and longitudes\n",
    "lat_range = (-90, 90)\n",
    "lng_range = (-180, 180)"
   ]
  },
  {
   "cell_type": "markdown",
   "metadata": {},
   "source": [
    "## Generate Cities List"
   ]
  },
  {
   "cell_type": "code",
   "execution_count": 2,
   "metadata": {},
   "outputs": [
    {
     "data": {
      "text/plain": [
       "598"
      ]
     },
     "execution_count": 2,
     "metadata": {},
     "output_type": "execute_result"
    }
   ],
   "source": [
    "# List for holding lat_lngs and cities\n",
    "lat_lngs = []\n",
    "cities = []\n",
    "\n",
    "# Create a set of random lat and lng combinations\n",
    "lats = np.random.uniform(lat_range[0], lat_range[1], size=1500)\n",
    "lngs = np.random.uniform(lng_range[0], lng_range[1], size=1500)\n",
    "lat_lngs = zip(lats, lngs)\n",
    "\n",
    "# Identify nearest city for each lat, lng combination\n",
    "for lat_lng in lat_lngs:\n",
    "    city = citipy.nearest_city(lat_lng[0], lat_lng[1]).city_name\n",
    "    \n",
    "    # If the city is unique, then add it to a our cities list\n",
    "    if city not in cities:\n",
    "        cities.append(city)\n",
    "\n",
    "# Print the city count to confirm sufficient count\n",
    "len(cities)"
   ]
  },
  {
   "cell_type": "markdown",
   "metadata": {},
   "source": [
    "### Perform API Calls\n",
    "* Perform a weather check on each city using a series of successive API calls.\n",
    "* Include a print log of each city as it'sbeing processed (with the city number and city name).\n"
   ]
  },
  {
   "cell_type": "code",
   "execution_count": 9,
   "metadata": {
    "scrolled": true
   },
   "outputs": [
    {
     "name": "stdout",
     "output_type": "stream",
     "text": [
      "Processing city number 0  |  hilo\n",
      "Processing city number 1  |  goldsboro\n",
      "Processing city number 2  |  severo-kurilsk\n",
      "Processing city number 3  |  terra santa\n",
      "Processing city number 4  |  berlevag\n",
      "Processing city number 5  |  atambua\n",
      "Processing city number 6  |  ponta do sol\n",
      "Processing city number 7  |  mys shmidta\n",
      "mys shmidta not found... skipping\n",
      "Processing city number 8  |  bredasdorp\n",
      "Processing city number 9  |  tuatapere\n"
     ]
    },
    {
     "data": {
      "text/html": [
       "<div>\n",
       "<style scoped>\n",
       "    .dataframe tbody tr th:only-of-type {\n",
       "        vertical-align: middle;\n",
       "    }\n",
       "\n",
       "    .dataframe tbody tr th {\n",
       "        vertical-align: top;\n",
       "    }\n",
       "\n",
       "    .dataframe thead th {\n",
       "        text-align: right;\n",
       "    }\n",
       "</style>\n",
       "<table border=\"1\" class=\"dataframe\">\n",
       "  <thead>\n",
       "    <tr style=\"text-align: right;\">\n",
       "      <th></th>\n",
       "      <th>lat</th>\n",
       "      <th>lng</th>\n",
       "      <th>max temp</th>\n",
       "      <th>humidity</th>\n",
       "      <th>cloudiness</th>\n",
       "      <th>wind speed</th>\n",
       "      <th>country</th>\n",
       "      <th>date</th>\n",
       "    </tr>\n",
       "  </thead>\n",
       "  <tbody>\n",
       "    <tr>\n",
       "      <th>0</th>\n",
       "      <td>19.7297</td>\n",
       "      <td>-155.09</td>\n",
       "      <td>298.04</td>\n",
       "      <td>78</td>\n",
       "      <td>100</td>\n",
       "      <td>2.57</td>\n",
       "      <td>US</td>\n",
       "      <td>1644102312</td>\n",
       "    </tr>\n",
       "    <tr>\n",
       "      <th>1</th>\n",
       "      <td>35.3849</td>\n",
       "      <td>-77.9928</td>\n",
       "      <td>277.56</td>\n",
       "      <td>35</td>\n",
       "      <td>0</td>\n",
       "      <td>2.57</td>\n",
       "      <td>US</td>\n",
       "      <td>1644102967</td>\n",
       "    </tr>\n",
       "    <tr>\n",
       "      <th>2</th>\n",
       "      <td>50.6789</td>\n",
       "      <td>156.125</td>\n",
       "      <td>271.39</td>\n",
       "      <td>82</td>\n",
       "      <td>95</td>\n",
       "      <td>4.51</td>\n",
       "      <td>RU</td>\n",
       "      <td>1644103128</td>\n",
       "    </tr>\n",
       "    <tr>\n",
       "      <th>3</th>\n",
       "      <td>-2.1042</td>\n",
       "      <td>-56.4869</td>\n",
       "      <td>297.53</td>\n",
       "      <td>94</td>\n",
       "      <td>100</td>\n",
       "      <td>0.66</td>\n",
       "      <td>BR</td>\n",
       "      <td>1644103128</td>\n",
       "    </tr>\n",
       "    <tr>\n",
       "      <th>4</th>\n",
       "      <td>70.8578</td>\n",
       "      <td>29.0864</td>\n",
       "      <td>268.95</td>\n",
       "      <td>82</td>\n",
       "      <td>55</td>\n",
       "      <td>11.54</td>\n",
       "      <td>NO</td>\n",
       "      <td>1644102838</td>\n",
       "    </tr>\n",
       "    <tr>\n",
       "      <th>5</th>\n",
       "      <td>-9.1061</td>\n",
       "      <td>124.8925</td>\n",
       "      <td>297.88</td>\n",
       "      <td>83</td>\n",
       "      <td>74</td>\n",
       "      <td>0.18</td>\n",
       "      <td>ID</td>\n",
       "      <td>1644103128</td>\n",
       "    </tr>\n",
       "    <tr>\n",
       "      <th>6</th>\n",
       "      <td>32.6667</td>\n",
       "      <td>-17.1</td>\n",
       "      <td>292.6</td>\n",
       "      <td>56</td>\n",
       "      <td>9</td>\n",
       "      <td>5.25</td>\n",
       "      <td>PT</td>\n",
       "      <td>1644103054</td>\n",
       "    </tr>\n",
       "    <tr>\n",
       "      <th>8</th>\n",
       "      <td>-34.5322</td>\n",
       "      <td>20.0403</td>\n",
       "      <td>293.31</td>\n",
       "      <td>77</td>\n",
       "      <td>83</td>\n",
       "      <td>8.75</td>\n",
       "      <td>ZA</td>\n",
       "      <td>1644103129</td>\n",
       "    </tr>\n",
       "    <tr>\n",
       "      <th>9</th>\n",
       "      <td>-46.1333</td>\n",
       "      <td>167.6833</td>\n",
       "      <td>285.83</td>\n",
       "      <td>73</td>\n",
       "      <td>99</td>\n",
       "      <td>2.18</td>\n",
       "      <td>NZ</td>\n",
       "      <td>1644102698</td>\n",
       "    </tr>\n",
       "  </tbody>\n",
       "</table>\n",
       "</div>"
      ],
      "text/plain": [
       "       lat       lng max temp humidity cloudiness wind speed country  \\\n",
       "0  19.7297   -155.09   298.04       78        100       2.57      US   \n",
       "1  35.3849  -77.9928   277.56       35          0       2.57      US   \n",
       "2  50.6789   156.125   271.39       82         95       4.51      RU   \n",
       "3  -2.1042  -56.4869   297.53       94        100       0.66      BR   \n",
       "4  70.8578   29.0864   268.95       82         55      11.54      NO   \n",
       "5  -9.1061  124.8925   297.88       83         74       0.18      ID   \n",
       "6  32.6667     -17.1    292.6       56          9       5.25      PT   \n",
       "8 -34.5322   20.0403   293.31       77         83       8.75      ZA   \n",
       "9 -46.1333  167.6833   285.83       73         99       2.18      NZ   \n",
       "\n",
       "         date  \n",
       "0  1644102312  \n",
       "1  1644102967  \n",
       "2  1644103128  \n",
       "3  1644103128  \n",
       "4  1644102838  \n",
       "5  1644103128  \n",
       "6  1644103054  \n",
       "8  1644103129  \n",
       "9  1644102698  "
      ]
     },
     "execution_count": 9,
     "metadata": {},
     "output_type": "execute_result"
    }
   ],
   "source": [
    "base_url = \"http://api.openweathermap.org/data/2.5/weather?\"\n",
    "# set up dataframe\n",
    "weather_data = pd.DataFrame()\n",
    "weather_data[\"lat\"] = ''\n",
    "weather_data['lng'] = ''\n",
    "weather_data['max temp'] = ''\n",
    "weather_data['humidity'] = ''\n",
    "weather_data['cloudiness'] = ''\n",
    "weather_data['wind speed'] = ''\n",
    "weather_data['country'] = ''\n",
    "weather_data['date'] = ''\n",
    "# loop through cities (only do 10 right now)\n",
    "for index, city in enumerate(cities[0:10]):\n",
    "    # set up query url and access\n",
    "    query_url = f\"{base_url}&appid={weather_api_key}&q={city}\"\n",
    "    response = requests.get(query_url).json()\n",
    "    print(f\"Processing city number {index}  |  {city}\")\n",
    "    # try to import data into our dataframe\n",
    "    try:\n",
    "        weather_data.loc[index, \"lng\"] = response['coord']['lon']\n",
    "        weather_data.loc[index, \"lat\"] = response['coord']['lat']\n",
    "        weather_data.loc[index, \"max temp\"] = response['main']['temp_max']\n",
    "        weather_data.loc[index, \"humidity\"] = response['main']['humidity']\n",
    "        weather_data.loc[index, \"cloudiness\"] = response['clouds']['all']\n",
    "        weather_data.loc[index, \"wind speed\"] = response['wind']['speed']\n",
    "        weather_data.loc[index, \"country\"] = response['sys']['country']\n",
    "        weather_data.loc[index, \"date\"] = response['dt']\n",
    "    # if data not found print message\n",
    "    except:\n",
    "        print(f\"{city} not found... skipping\")"
   ]
  },
  {
   "cell_type": "markdown",
   "metadata": {},
   "source": [
    "### Convert Raw Data to DataFrame\n",
    "* Export the city data into a .csv.\n",
    "* Display the DataFrame"
   ]
  },
  {
   "cell_type": "code",
   "execution_count": 10,
   "metadata": {},
   "outputs": [
    {
     "data": {
      "text/html": [
       "<div>\n",
       "<style scoped>\n",
       "    .dataframe tbody tr th:only-of-type {\n",
       "        vertical-align: middle;\n",
       "    }\n",
       "\n",
       "    .dataframe tbody tr th {\n",
       "        vertical-align: top;\n",
       "    }\n",
       "\n",
       "    .dataframe thead th {\n",
       "        text-align: right;\n",
       "    }\n",
       "</style>\n",
       "<table border=\"1\" class=\"dataframe\">\n",
       "  <thead>\n",
       "    <tr style=\"text-align: right;\">\n",
       "      <th></th>\n",
       "      <th>lat</th>\n",
       "      <th>lng</th>\n",
       "      <th>max temp</th>\n",
       "      <th>humidity</th>\n",
       "      <th>cloudiness</th>\n",
       "      <th>wind speed</th>\n",
       "      <th>country</th>\n",
       "      <th>date</th>\n",
       "    </tr>\n",
       "  </thead>\n",
       "  <tbody>\n",
       "    <tr>\n",
       "      <th>0</th>\n",
       "      <td>19.7297</td>\n",
       "      <td>-155.09</td>\n",
       "      <td>298.04</td>\n",
       "      <td>78</td>\n",
       "      <td>100</td>\n",
       "      <td>2.57</td>\n",
       "      <td>US</td>\n",
       "      <td>1644102312</td>\n",
       "    </tr>\n",
       "    <tr>\n",
       "      <th>1</th>\n",
       "      <td>35.3849</td>\n",
       "      <td>-77.9928</td>\n",
       "      <td>277.56</td>\n",
       "      <td>35</td>\n",
       "      <td>0</td>\n",
       "      <td>2.57</td>\n",
       "      <td>US</td>\n",
       "      <td>1644102967</td>\n",
       "    </tr>\n",
       "    <tr>\n",
       "      <th>2</th>\n",
       "      <td>50.6789</td>\n",
       "      <td>156.125</td>\n",
       "      <td>271.39</td>\n",
       "      <td>82</td>\n",
       "      <td>95</td>\n",
       "      <td>4.51</td>\n",
       "      <td>RU</td>\n",
       "      <td>1644103128</td>\n",
       "    </tr>\n",
       "    <tr>\n",
       "      <th>3</th>\n",
       "      <td>-2.1042</td>\n",
       "      <td>-56.4869</td>\n",
       "      <td>297.53</td>\n",
       "      <td>94</td>\n",
       "      <td>100</td>\n",
       "      <td>0.66</td>\n",
       "      <td>BR</td>\n",
       "      <td>1644103128</td>\n",
       "    </tr>\n",
       "    <tr>\n",
       "      <th>4</th>\n",
       "      <td>70.8578</td>\n",
       "      <td>29.0864</td>\n",
       "      <td>268.95</td>\n",
       "      <td>82</td>\n",
       "      <td>55</td>\n",
       "      <td>11.54</td>\n",
       "      <td>NO</td>\n",
       "      <td>1644102838</td>\n",
       "    </tr>\n",
       "    <tr>\n",
       "      <th>5</th>\n",
       "      <td>-9.1061</td>\n",
       "      <td>124.8925</td>\n",
       "      <td>297.88</td>\n",
       "      <td>83</td>\n",
       "      <td>74</td>\n",
       "      <td>0.18</td>\n",
       "      <td>ID</td>\n",
       "      <td>1644103128</td>\n",
       "    </tr>\n",
       "    <tr>\n",
       "      <th>6</th>\n",
       "      <td>32.6667</td>\n",
       "      <td>-17.1</td>\n",
       "      <td>292.6</td>\n",
       "      <td>56</td>\n",
       "      <td>9</td>\n",
       "      <td>5.25</td>\n",
       "      <td>PT</td>\n",
       "      <td>1644103054</td>\n",
       "    </tr>\n",
       "    <tr>\n",
       "      <th>8</th>\n",
       "      <td>-34.5322</td>\n",
       "      <td>20.0403</td>\n",
       "      <td>293.31</td>\n",
       "      <td>77</td>\n",
       "      <td>83</td>\n",
       "      <td>8.75</td>\n",
       "      <td>ZA</td>\n",
       "      <td>1644103129</td>\n",
       "    </tr>\n",
       "    <tr>\n",
       "      <th>9</th>\n",
       "      <td>-46.1333</td>\n",
       "      <td>167.6833</td>\n",
       "      <td>285.83</td>\n",
       "      <td>73</td>\n",
       "      <td>99</td>\n",
       "      <td>2.18</td>\n",
       "      <td>NZ</td>\n",
       "      <td>1644102698</td>\n",
       "    </tr>\n",
       "  </tbody>\n",
       "</table>\n",
       "</div>"
      ],
      "text/plain": [
       "       lat       lng max temp humidity cloudiness wind speed country  \\\n",
       "0  19.7297   -155.09   298.04       78        100       2.57      US   \n",
       "1  35.3849  -77.9928   277.56       35          0       2.57      US   \n",
       "2  50.6789   156.125   271.39       82         95       4.51      RU   \n",
       "3  -2.1042  -56.4869   297.53       94        100       0.66      BR   \n",
       "4  70.8578   29.0864   268.95       82         55      11.54      NO   \n",
       "5  -9.1061  124.8925   297.88       83         74       0.18      ID   \n",
       "6  32.6667     -17.1    292.6       56          9       5.25      PT   \n",
       "8 -34.5322   20.0403   293.31       77         83       8.75      ZA   \n",
       "9 -46.1333  167.6833   285.83       73         99       2.18      NZ   \n",
       "\n",
       "         date  \n",
       "0  1644102312  \n",
       "1  1644102967  \n",
       "2  1644103128  \n",
       "3  1644103128  \n",
       "4  1644102838  \n",
       "5  1644103128  \n",
       "6  1644103054  \n",
       "8  1644103129  \n",
       "9  1644102698  "
      ]
     },
     "execution_count": 10,
     "metadata": {},
     "output_type": "execute_result"
    }
   ],
   "source": [
    "# export to csv\n",
    "weather_data.to_csv(\"../output_data/weather_data.csv\")\n",
    "weather_data"
   ]
  },
  {
   "cell_type": "code",
   "execution_count": null,
   "metadata": {},
   "outputs": [],
   "source": []
  },
  {
   "cell_type": "markdown",
   "metadata": {},
   "source": [
    "## Inspect the data and remove the cities where the humidity > 100%.\n",
    "----\n",
    "Skip this step if there are no cities that have humidity > 100%. "
   ]
  },
  {
   "cell_type": "code",
   "execution_count": null,
   "metadata": {},
   "outputs": [],
   "source": []
  },
  {
   "cell_type": "code",
   "execution_count": null,
   "metadata": {},
   "outputs": [],
   "source": [
    "#  Get the indices of cities that have humidity over 100%.\n"
   ]
  },
  {
   "cell_type": "code",
   "execution_count": null,
   "metadata": {},
   "outputs": [],
   "source": [
    "# Make a new DataFrame equal to the city data to drop all humidity outliers by index.\n",
    "# Passing \"inplace=False\" will make a copy of the city_data DataFrame, which we call \"clean_city_data\".\n"
   ]
  },
  {
   "cell_type": "code",
   "execution_count": null,
   "metadata": {},
   "outputs": [],
   "source": [
    "\n"
   ]
  },
  {
   "cell_type": "markdown",
   "metadata": {},
   "source": [
    "## Plotting the Data\n",
    "* Use proper labeling of the plots using plot titles (including date of analysis) and axes labels.\n",
    "* Save the plotted figures as .pngs."
   ]
  },
  {
   "cell_type": "markdown",
   "metadata": {},
   "source": [
    "## Latitude vs. Temperature Plot"
   ]
  },
  {
   "cell_type": "code",
   "execution_count": null,
   "metadata": {
    "scrolled": true
   },
   "outputs": [],
   "source": []
  },
  {
   "cell_type": "markdown",
   "metadata": {},
   "source": [
    "## Latitude vs. Humidity Plot"
   ]
  },
  {
   "cell_type": "code",
   "execution_count": null,
   "metadata": {},
   "outputs": [],
   "source": []
  },
  {
   "cell_type": "markdown",
   "metadata": {},
   "source": [
    "## Latitude vs. Cloudiness Plot"
   ]
  },
  {
   "cell_type": "code",
   "execution_count": null,
   "metadata": {},
   "outputs": [],
   "source": []
  },
  {
   "cell_type": "markdown",
   "metadata": {},
   "source": [
    "## Latitude vs. Wind Speed Plot"
   ]
  },
  {
   "cell_type": "code",
   "execution_count": null,
   "metadata": {},
   "outputs": [],
   "source": []
  },
  {
   "cell_type": "markdown",
   "metadata": {},
   "source": [
    "## Linear Regression"
   ]
  },
  {
   "cell_type": "code",
   "execution_count": null,
   "metadata": {},
   "outputs": [],
   "source": []
  },
  {
   "cell_type": "markdown",
   "metadata": {},
   "source": [
    "####  Northern Hemisphere - Max Temp vs. Latitude Linear Regression"
   ]
  },
  {
   "cell_type": "code",
   "execution_count": null,
   "metadata": {},
   "outputs": [],
   "source": []
  },
  {
   "cell_type": "markdown",
   "metadata": {},
   "source": [
    "####  Southern Hemisphere - Max Temp vs. Latitude Linear Regression"
   ]
  },
  {
   "cell_type": "code",
   "execution_count": null,
   "metadata": {},
   "outputs": [],
   "source": []
  },
  {
   "cell_type": "markdown",
   "metadata": {},
   "source": [
    "####  Northern Hemisphere - Humidity (%) vs. Latitude Linear Regression"
   ]
  },
  {
   "cell_type": "code",
   "execution_count": null,
   "metadata": {},
   "outputs": [],
   "source": []
  },
  {
   "cell_type": "markdown",
   "metadata": {},
   "source": [
    "####  Southern Hemisphere - Humidity (%) vs. Latitude Linear Regression"
   ]
  },
  {
   "cell_type": "code",
   "execution_count": null,
   "metadata": {},
   "outputs": [],
   "source": []
  },
  {
   "cell_type": "markdown",
   "metadata": {},
   "source": [
    "####  Northern Hemisphere - Cloudiness (%) vs. Latitude Linear Regression"
   ]
  },
  {
   "cell_type": "code",
   "execution_count": null,
   "metadata": {},
   "outputs": [],
   "source": []
  },
  {
   "cell_type": "markdown",
   "metadata": {},
   "source": [
    "####  Southern Hemisphere - Cloudiness (%) vs. Latitude Linear Regression"
   ]
  },
  {
   "cell_type": "code",
   "execution_count": null,
   "metadata": {},
   "outputs": [],
   "source": []
  },
  {
   "cell_type": "markdown",
   "metadata": {},
   "source": [
    "####  Northern Hemisphere - Wind Speed (mph) vs. Latitude Linear Regression"
   ]
  },
  {
   "cell_type": "code",
   "execution_count": null,
   "metadata": {},
   "outputs": [],
   "source": []
  },
  {
   "cell_type": "markdown",
   "metadata": {},
   "source": [
    "####  Southern Hemisphere - Wind Speed (mph) vs. Latitude Linear Regression"
   ]
  },
  {
   "cell_type": "code",
   "execution_count": null,
   "metadata": {},
   "outputs": [],
   "source": []
  },
  {
   "cell_type": "code",
   "execution_count": null,
   "metadata": {},
   "outputs": [],
   "source": []
  }
 ],
 "metadata": {
  "anaconda-cloud": {},
  "kernel_info": {
   "name": "python3"
  },
  "kernelspec": {
   "display_name": "Python 3 (ipykernel)",
   "language": "python",
   "name": "python3"
  },
  "language_info": {
   "codemirror_mode": {
    "name": "ipython",
    "version": 3
   },
   "file_extension": ".py",
   "mimetype": "text/x-python",
   "name": "python",
   "nbconvert_exporter": "python",
   "pygments_lexer": "ipython3",
   "version": "3.9.7"
  },
  "latex_envs": {
   "LaTeX_envs_menu_present": true,
   "autoclose": false,
   "autocomplete": true,
   "bibliofile": "biblio.bib",
   "cite_by": "apalike",
   "current_citInitial": 1,
   "eqLabelWithNumbers": true,
   "eqNumInitial": 1,
   "hotkeys": {
    "equation": "Ctrl-E",
    "itemize": "Ctrl-I"
   },
   "labels_anchors": false,
   "latex_user_defs": false,
   "report_style_numbering": false,
   "user_envs_cfg": false
  },
  "nteract": {
   "version": "0.12.3"
  }
 },
 "nbformat": 4,
 "nbformat_minor": 4
}
