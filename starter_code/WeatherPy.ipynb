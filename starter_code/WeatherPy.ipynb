{
 "cells": [
  {
   "cell_type": "markdown",
   "metadata": {},
   "source": [
    "# WeatherPy\n",
    "----\n",
    "\n",
    "#### Note\n",
    "* Instructions have been included for each segment. You do not have to follow them exactly, but they are included to help you think through the steps."
   ]
  },
  {
   "cell_type": "markdown",
   "metadata": {},
   "source": [
    "NEED TO: \n",
    "Save PNG (plt.savefig) for each plot\n",
    "Update the for loop to go through all of the cities (look for that rest thing eli talked about)\n",
    "Write sentence for what each is"
   ]
  },
  {
   "cell_type": "code",
   "execution_count": 1,
   "metadata": {
    "scrolled": true
   },
   "outputs": [],
   "source": [
    "# Dependencies and Setup\n",
    "import matplotlib.pyplot as plt\n",
    "import pandas as pd\n",
    "import numpy as np\n",
    "import requests\n",
    "import time\n",
    "from scipy.stats import linregress\n",
    "from pprint import pprint\n",
    "\n",
    "# Import API key\n",
    "from api_keys import weather_api_key\n",
    "\n",
    "# Incorporated citipy to determine city based on latitude and longitude\n",
    "from citipy import citipy\n",
    "\n",
    "# Output File (CSV)\n",
    "output_data_file = \"output_data/cities.csv\"\n",
    "\n",
    "# Range of latitudes and longitudes\n",
    "lat_range = (-90, 90)\n",
    "lng_range = (-180, 180)"
   ]
  },
  {
   "cell_type": "markdown",
   "metadata": {},
   "source": [
    "## Generate Cities List"
   ]
  },
  {
   "cell_type": "code",
   "execution_count": 2,
   "metadata": {},
   "outputs": [
    {
     "data": {
      "text/plain": [
       "597"
      ]
     },
     "execution_count": 2,
     "metadata": {},
     "output_type": "execute_result"
    }
   ],
   "source": [
    "# List for holding lat_lngs and cities\n",
    "lat_lngs = []\n",
    "cities = []\n",
    "\n",
    "# Create a set of random lat and lng combinations\n",
    "lats = np.random.uniform(lat_range[0], lat_range[1], size=1500)\n",
    "lngs = np.random.uniform(lng_range[0], lng_range[1], size=1500)\n",
    "lat_lngs = zip(lats, lngs)\n",
    "\n",
    "# Identify nearest city for each lat, lng combination\n",
    "for lat_lng in lat_lngs:\n",
    "    city = citipy.nearest_city(lat_lng[0], lat_lng[1]).city_name\n",
    "    \n",
    "    # If the city is unique, then add it to a our cities list\n",
    "    if city not in cities:\n",
    "        cities.append(city)\n",
    "\n",
    "# Print the city count to confirm sufficient count\n",
    "len(cities)"
   ]
  },
  {
   "cell_type": "markdown",
   "metadata": {},
   "source": [
    "### Perform API Calls\n",
    "* Perform a weather check on each city using a series of successive API calls.\n",
    "* Include a print log of each city as it'sbeing processed (with the city number and city name).\n"
   ]
  },
  {
   "cell_type": "code",
   "execution_count": 24,
   "metadata": {
    "scrolled": true
   },
   "outputs": [
    {
     "name": "stdout",
     "output_type": "stream",
     "text": [
      "Processing city number 0  |  new norfolk\n",
      "Processing city number 1  |  yen bai\n",
      "Processing city number 2  |  klamath falls\n",
      "Processing city number 3  |  taseyevo\n",
      "Processing city number 4  |  bluff\n",
      "Processing city number 5  |  rawson\n",
      "Processing city number 6  |  atuona\n",
      "Processing city number 7  |  saint-philippe\n",
      "Processing city number 8  |  avarua\n",
      "Processing city number 9  |  namibe\n",
      "Processing city number 10  |  mar del plata\n",
      "Processing city number 11  |  nueva loja\n",
      "Processing city number 12  |  jamestown\n",
      "Processing city number 13  |  la serena\n",
      "Processing city number 14  |  portland\n",
      "Processing city number 15  |  punta arenas\n",
      "Processing city number 16  |  kaitangata\n",
      "Processing city number 17  |  hamina\n",
      "Processing city number 18  |  aklavik\n",
      "Processing city number 19  |  east london\n",
      "Processing city number 20  |  tomatlan\n",
      "Processing city number 21  |  isiro\n",
      "Processing city number 22  |  hobart\n",
      "Processing city number 23  |  alpena\n",
      "Processing city number 24  |  nizhneyansk\n",
      "nizhneyansk not found... skipping\n",
      "Processing city number 25  |  skagen\n",
      "Processing city number 26  |  tumannyy\n",
      "tumannyy not found... skipping\n",
      "Processing city number 27  |  castro\n",
      "Processing city number 28  |  aquiraz\n",
      "Processing city number 29  |  hilo\n",
      "Processing city number 30  |  port-gentil\n",
      "Processing city number 31  |  butaritari\n",
      "Processing city number 32  |  sayhat\n",
      "Processing city number 33  |  ostrovnoy\n",
      "Processing city number 34  |  sola\n",
      "Processing city number 35  |  saint-augustin\n",
      "Processing city number 36  |  yellowknife\n",
      "Processing city number 37  |  marystown\n",
      "Processing city number 38  |  macusani\n",
      "Processing city number 39  |  baykit\n",
      "Processing city number 40  |  ushuaia\n",
      "Processing city number 41  |  ilulissat\n",
      "Processing city number 42  |  norman wells\n",
      "Processing city number 43  |  ambon\n",
      "Processing city number 44  |  kantunilkin\n",
      "Processing city number 45  |  hue\n",
      "Processing city number 46  |  hermanus\n",
      "Processing city number 47  |  dikson\n",
      "Processing city number 48  |  palabuhanratu\n",
      "palabuhanratu not found... skipping\n",
      "Processing city number 49  |  acapulco\n"
     ]
    }
   ],
   "source": [
    "base_url = \"http://api.openweathermap.org/data/2.5/weather?\"\n",
    "# set up dataframe\n",
    "weather_data = pd.DataFrame()\n",
    "weather_data[\"lat\"] = ''\n",
    "weather_data['lng'] = ''\n",
    "weather_data['max temp'] = ''\n",
    "weather_data['humidity'] = ''\n",
    "weather_data['cloudiness'] = ''\n",
    "weather_data['wind speed'] = ''\n",
    "weather_data['country'] = ''\n",
    "weather_data['date'] = ''\n",
    "# loop through cities (only do 10 right now)\n",
    "for index, city in enumerate(cities[0:50]):\n",
    "    # set up query url and access\n",
    "    query_url = f\"{base_url}&appid={weather_api_key}&q={city}\"\n",
    "    response = requests.get(query_url).json()\n",
    "    print(f\"Processing city number {index}  |  {city}\")\n",
    "    # try to import data into our dataframe\n",
    "    try:\n",
    "        weather_data.loc[index, \"lng\"] = response['coord']['lon']\n",
    "        weather_data.loc[index, \"lat\"] = response['coord']['lat']\n",
    "        weather_data.loc[index, \"max temp\"] = response['main']['temp_max']\n",
    "        weather_data.loc[index, \"humidity\"] = response['main']['humidity']\n",
    "        weather_data.loc[index, \"cloudiness\"] = response['clouds']['all']\n",
    "        weather_data.loc[index, \"wind speed\"] = response['wind']['speed']\n",
    "        weather_data.loc[index, \"country\"] = response['sys']['country']\n",
    "        weather_data.loc[index, \"date\"] = response['dt']\n",
    "    # if data not found print message\n",
    "    except:\n",
    "        print(f\"{city} not found... skipping\")"
   ]
  },
  {
   "cell_type": "markdown",
   "metadata": {},
   "source": [
    "### Convert Raw Data to DataFrame\n",
    "* Export the city data into a .csv.\n",
    "* Display the DataFrame"
   ]
  },
  {
   "cell_type": "code",
   "execution_count": 25,
   "metadata": {},
   "outputs": [
    {
     "data": {
      "text/html": [
       "<div>\n",
       "<style scoped>\n",
       "    .dataframe tbody tr th:only-of-type {\n",
       "        vertical-align: middle;\n",
       "    }\n",
       "\n",
       "    .dataframe tbody tr th {\n",
       "        vertical-align: top;\n",
       "    }\n",
       "\n",
       "    .dataframe thead th {\n",
       "        text-align: right;\n",
       "    }\n",
       "</style>\n",
       "<table border=\"1\" class=\"dataframe\">\n",
       "  <thead>\n",
       "    <tr style=\"text-align: right;\">\n",
       "      <th></th>\n",
       "      <th>lat</th>\n",
       "      <th>lng</th>\n",
       "      <th>max temp</th>\n",
       "      <th>humidity</th>\n",
       "      <th>cloudiness</th>\n",
       "      <th>wind speed</th>\n",
       "      <th>country</th>\n",
       "      <th>date</th>\n",
       "    </tr>\n",
       "  </thead>\n",
       "  <tbody>\n",
       "    <tr>\n",
       "      <th>0</th>\n",
       "      <td>-42.7826</td>\n",
       "      <td>147.0587</td>\n",
       "      <td>295.77</td>\n",
       "      <td>39</td>\n",
       "      <td>0</td>\n",
       "      <td>0.89</td>\n",
       "      <td>AU</td>\n",
       "      <td>1644111995</td>\n",
       "    </tr>\n",
       "    <tr>\n",
       "      <th>1</th>\n",
       "      <td>21.7</td>\n",
       "      <td>104.8667</td>\n",
       "      <td>287.06</td>\n",
       "      <td>81</td>\n",
       "      <td>88</td>\n",
       "      <td>0.44</td>\n",
       "      <td>VN</td>\n",
       "      <td>1644111996</td>\n",
       "    </tr>\n",
       "    <tr>\n",
       "      <th>2</th>\n",
       "      <td>42.2249</td>\n",
       "      <td>-121.7817</td>\n",
       "      <td>280.1</td>\n",
       "      <td>39</td>\n",
       "      <td>0</td>\n",
       "      <td>2.57</td>\n",
       "      <td>US</td>\n",
       "      <td>1644111873</td>\n",
       "    </tr>\n",
       "    <tr>\n",
       "      <th>3</th>\n",
       "      <td>57.2169</td>\n",
       "      <td>94.8978</td>\n",
       "      <td>265.32</td>\n",
       "      <td>92</td>\n",
       "      <td>100</td>\n",
       "      <td>3.02</td>\n",
       "      <td>RU</td>\n",
       "      <td>1644111997</td>\n",
       "    </tr>\n",
       "    <tr>\n",
       "      <th>4</th>\n",
       "      <td>-46.6</td>\n",
       "      <td>168.3333</td>\n",
       "      <td>288.04</td>\n",
       "      <td>59</td>\n",
       "      <td>14</td>\n",
       "      <td>4.94</td>\n",
       "      <td>NZ</td>\n",
       "      <td>1644111997</td>\n",
       "    </tr>\n",
       "    <tr>\n",
       "      <th>5</th>\n",
       "      <td>-43.3002</td>\n",
       "      <td>-65.1023</td>\n",
       "      <td>289.28</td>\n",
       "      <td>52</td>\n",
       "      <td>95</td>\n",
       "      <td>5.78</td>\n",
       "      <td>AR</td>\n",
       "      <td>1644111997</td>\n",
       "    </tr>\n",
       "    <tr>\n",
       "      <th>6</th>\n",
       "      <td>-9.8</td>\n",
       "      <td>-139.0333</td>\n",
       "      <td>299.31</td>\n",
       "      <td>75</td>\n",
       "      <td>30</td>\n",
       "      <td>9.41</td>\n",
       "      <td>PF</td>\n",
       "      <td>1644111998</td>\n",
       "    </tr>\n",
       "    <tr>\n",
       "      <th>7</th>\n",
       "      <td>-21.3585</td>\n",
       "      <td>55.7679</td>\n",
       "      <td>298.92</td>\n",
       "      <td>84</td>\n",
       "      <td>99</td>\n",
       "      <td>8.13</td>\n",
       "      <td>RE</td>\n",
       "      <td>1644111998</td>\n",
       "    </tr>\n",
       "    <tr>\n",
       "      <th>8</th>\n",
       "      <td>-21.2078</td>\n",
       "      <td>-159.775</td>\n",
       "      <td>301.18</td>\n",
       "      <td>78</td>\n",
       "      <td>20</td>\n",
       "      <td>7.2</td>\n",
       "      <td>CK</td>\n",
       "      <td>1644111998</td>\n",
       "    </tr>\n",
       "    <tr>\n",
       "      <th>9</th>\n",
       "      <td>-15.1961</td>\n",
       "      <td>12.1522</td>\n",
       "      <td>295.5</td>\n",
       "      <td>67</td>\n",
       "      <td>85</td>\n",
       "      <td>3.96</td>\n",
       "      <td>AO</td>\n",
       "      <td>1644111999</td>\n",
       "    </tr>\n",
       "    <tr>\n",
       "      <th>10</th>\n",
       "      <td>-38.0023</td>\n",
       "      <td>-57.5575</td>\n",
       "      <td>290.42</td>\n",
       "      <td>75</td>\n",
       "      <td>75</td>\n",
       "      <td>0.45</td>\n",
       "      <td>AR</td>\n",
       "      <td>1644111843</td>\n",
       "    </tr>\n",
       "    <tr>\n",
       "      <th>11</th>\n",
       "      <td>0.0847</td>\n",
       "      <td>-76.8828</td>\n",
       "      <td>294.88</td>\n",
       "      <td>98</td>\n",
       "      <td>88</td>\n",
       "      <td>0.69</td>\n",
       "      <td>EC</td>\n",
       "      <td>1644111999</td>\n",
       "    </tr>\n",
       "    <tr>\n",
       "      <th>12</th>\n",
       "      <td>42.097</td>\n",
       "      <td>-79.2353</td>\n",
       "      <td>262.22</td>\n",
       "      <td>72</td>\n",
       "      <td>0</td>\n",
       "      <td>0</td>\n",
       "      <td>US</td>\n",
       "      <td>1644111450</td>\n",
       "    </tr>\n",
       "    <tr>\n",
       "      <th>13</th>\n",
       "      <td>-29.9078</td>\n",
       "      <td>-71.2542</td>\n",
       "      <td>289.88</td>\n",
       "      <td>88</td>\n",
       "      <td>75</td>\n",
       "      <td>3.09</td>\n",
       "      <td>CL</td>\n",
       "      <td>1644112000</td>\n",
       "    </tr>\n",
       "    <tr>\n",
       "      <th>14</th>\n",
       "      <td>45.5234</td>\n",
       "      <td>-122.6762</td>\n",
       "      <td>283.12</td>\n",
       "      <td>80</td>\n",
       "      <td>75</td>\n",
       "      <td>0.45</td>\n",
       "      <td>US</td>\n",
       "      <td>1644111325</td>\n",
       "    </tr>\n",
       "    <tr>\n",
       "      <th>15</th>\n",
       "      <td>-53.15</td>\n",
       "      <td>-70.9167</td>\n",
       "      <td>286.21</td>\n",
       "      <td>62</td>\n",
       "      <td>40</td>\n",
       "      <td>4.12</td>\n",
       "      <td>CL</td>\n",
       "      <td>1644112001</td>\n",
       "    </tr>\n",
       "    <tr>\n",
       "      <th>16</th>\n",
       "      <td>-46.2817</td>\n",
       "      <td>169.8464</td>\n",
       "      <td>285.89</td>\n",
       "      <td>60</td>\n",
       "      <td>62</td>\n",
       "      <td>3.59</td>\n",
       "      <td>NZ</td>\n",
       "      <td>1644112001</td>\n",
       "    </tr>\n",
       "    <tr>\n",
       "      <th>17</th>\n",
       "      <td>60.5697</td>\n",
       "      <td>27.1979</td>\n",
       "      <td>271.75</td>\n",
       "      <td>99</td>\n",
       "      <td>28</td>\n",
       "      <td>2.14</td>\n",
       "      <td>FI</td>\n",
       "      <td>1644112001</td>\n",
       "    </tr>\n",
       "    <tr>\n",
       "      <th>18</th>\n",
       "      <td>68.2191</td>\n",
       "      <td>-135.0107</td>\n",
       "      <td>237.61</td>\n",
       "      <td>88</td>\n",
       "      <td>60</td>\n",
       "      <td>0.27</td>\n",
       "      <td>CA</td>\n",
       "      <td>1644112002</td>\n",
       "    </tr>\n",
       "    <tr>\n",
       "      <th>19</th>\n",
       "      <td>-33.0153</td>\n",
       "      <td>27.9116</td>\n",
       "      <td>294.09</td>\n",
       "      <td>89</td>\n",
       "      <td>96</td>\n",
       "      <td>7.12</td>\n",
       "      <td>ZA</td>\n",
       "      <td>1644111911</td>\n",
       "    </tr>\n",
       "    <tr>\n",
       "      <th>20</th>\n",
       "      <td>19.9333</td>\n",
       "      <td>-105.25</td>\n",
       "      <td>293.65</td>\n",
       "      <td>83</td>\n",
       "      <td>87</td>\n",
       "      <td>1.12</td>\n",
       "      <td>MX</td>\n",
       "      <td>1644112002</td>\n",
       "    </tr>\n",
       "    <tr>\n",
       "      <th>21</th>\n",
       "      <td>2.7739</td>\n",
       "      <td>27.616</td>\n",
       "      <td>291.53</td>\n",
       "      <td>35</td>\n",
       "      <td>100</td>\n",
       "      <td>0.99</td>\n",
       "      <td>CD</td>\n",
       "      <td>1644112003</td>\n",
       "    </tr>\n",
       "    <tr>\n",
       "      <th>22</th>\n",
       "      <td>-42.8794</td>\n",
       "      <td>147.3294</td>\n",
       "      <td>295.96</td>\n",
       "      <td>48</td>\n",
       "      <td>20</td>\n",
       "      <td>0.45</td>\n",
       "      <td>AU</td>\n",
       "      <td>1644111999</td>\n",
       "    </tr>\n",
       "    <tr>\n",
       "      <th>23</th>\n",
       "      <td>45.0617</td>\n",
       "      <td>-83.4327</td>\n",
       "      <td>266.33</td>\n",
       "      <td>73</td>\n",
       "      <td>100</td>\n",
       "      <td>2.68</td>\n",
       "      <td>US</td>\n",
       "      <td>1644112003</td>\n",
       "    </tr>\n",
       "    <tr>\n",
       "      <th>25</th>\n",
       "      <td>57.7209</td>\n",
       "      <td>10.5839</td>\n",
       "      <td>278.76</td>\n",
       "      <td>76</td>\n",
       "      <td>100</td>\n",
       "      <td>11.76</td>\n",
       "      <td>DK</td>\n",
       "      <td>1644112004</td>\n",
       "    </tr>\n",
       "    <tr>\n",
       "      <th>27</th>\n",
       "      <td>-24.7911</td>\n",
       "      <td>-50.0119</td>\n",
       "      <td>291.39</td>\n",
       "      <td>97</td>\n",
       "      <td>100</td>\n",
       "      <td>1.07</td>\n",
       "      <td>BR</td>\n",
       "      <td>1644112004</td>\n",
       "    </tr>\n",
       "    <tr>\n",
       "      <th>28</th>\n",
       "      <td>-3.9014</td>\n",
       "      <td>-38.3911</td>\n",
       "      <td>301.03</td>\n",
       "      <td>80</td>\n",
       "      <td>1</td>\n",
       "      <td>3.07</td>\n",
       "      <td>BR</td>\n",
       "      <td>1644112005</td>\n",
       "    </tr>\n",
       "    <tr>\n",
       "      <th>29</th>\n",
       "      <td>19.7297</td>\n",
       "      <td>-155.09</td>\n",
       "      <td>299</td>\n",
       "      <td>78</td>\n",
       "      <td>75</td>\n",
       "      <td>5.14</td>\n",
       "      <td>US</td>\n",
       "      <td>1644111839</td>\n",
       "    </tr>\n",
       "    <tr>\n",
       "      <th>30</th>\n",
       "      <td>-0.7193</td>\n",
       "      <td>8.7815</td>\n",
       "      <td>299.2</td>\n",
       "      <td>82</td>\n",
       "      <td>15</td>\n",
       "      <td>4.69</td>\n",
       "      <td>GA</td>\n",
       "      <td>1644112005</td>\n",
       "    </tr>\n",
       "    <tr>\n",
       "      <th>31</th>\n",
       "      <td>3.0707</td>\n",
       "      <td>172.7902</td>\n",
       "      <td>301.36</td>\n",
       "      <td>74</td>\n",
       "      <td>90</td>\n",
       "      <td>7.87</td>\n",
       "      <td>KI</td>\n",
       "      <td>1644112005</td>\n",
       "    </tr>\n",
       "    <tr>\n",
       "      <th>32</th>\n",
       "      <td>26.4852</td>\n",
       "      <td>50.0405</td>\n",
       "      <td>289.14</td>\n",
       "      <td>48</td>\n",
       "      <td>0</td>\n",
       "      <td>6.28</td>\n",
       "      <td>SA</td>\n",
       "      <td>1644112006</td>\n",
       "    </tr>\n",
       "    <tr>\n",
       "      <th>33</th>\n",
       "      <td>68.0531</td>\n",
       "      <td>39.5131</td>\n",
       "      <td>263.71</td>\n",
       "      <td>84</td>\n",
       "      <td>100</td>\n",
       "      <td>12.76</td>\n",
       "      <td>RU</td>\n",
       "      <td>1644112007</td>\n",
       "    </tr>\n",
       "    <tr>\n",
       "      <th>34</th>\n",
       "      <td>-13.8833</td>\n",
       "      <td>167.55</td>\n",
       "      <td>301</td>\n",
       "      <td>80</td>\n",
       "      <td>98</td>\n",
       "      <td>9.29</td>\n",
       "      <td>VU</td>\n",
       "      <td>1644112007</td>\n",
       "    </tr>\n",
       "    <tr>\n",
       "      <th>35</th>\n",
       "      <td>51.226</td>\n",
       "      <td>-58.6502</td>\n",
       "      <td>256.57</td>\n",
       "      <td>90</td>\n",
       "      <td>100</td>\n",
       "      <td>8.53</td>\n",
       "      <td>CA</td>\n",
       "      <td>1644112007</td>\n",
       "    </tr>\n",
       "    <tr>\n",
       "      <th>36</th>\n",
       "      <td>62.456</td>\n",
       "      <td>-114.3525</td>\n",
       "      <td>246.71</td>\n",
       "      <td>86</td>\n",
       "      <td>20</td>\n",
       "      <td>2.57</td>\n",
       "      <td>CA</td>\n",
       "      <td>1644112008</td>\n",
       "    </tr>\n",
       "    <tr>\n",
       "      <th>37</th>\n",
       "      <td>47.1666</td>\n",
       "      <td>-55.1483</td>\n",
       "      <td>274.74</td>\n",
       "      <td>100</td>\n",
       "      <td>100</td>\n",
       "      <td>0.89</td>\n",
       "      <td>CA</td>\n",
       "      <td>1644112008</td>\n",
       "    </tr>\n",
       "    <tr>\n",
       "      <th>38</th>\n",
       "      <td>-14.0833</td>\n",
       "      <td>-70.4333</td>\n",
       "      <td>275.79</td>\n",
       "      <td>95</td>\n",
       "      <td>100</td>\n",
       "      <td>0.64</td>\n",
       "      <td>PE</td>\n",
       "      <td>1644112009</td>\n",
       "    </tr>\n",
       "    <tr>\n",
       "      <th>39</th>\n",
       "      <td>61.67</td>\n",
       "      <td>96.37</td>\n",
       "      <td>256.71</td>\n",
       "      <td>98</td>\n",
       "      <td>89</td>\n",
       "      <td>1.8</td>\n",
       "      <td>RU</td>\n",
       "      <td>1644111893</td>\n",
       "    </tr>\n",
       "    <tr>\n",
       "      <th>40</th>\n",
       "      <td>-54.8</td>\n",
       "      <td>-68.3</td>\n",
       "      <td>282.96</td>\n",
       "      <td>57</td>\n",
       "      <td>20</td>\n",
       "      <td>8.23</td>\n",
       "      <td>AR</td>\n",
       "      <td>1644112009</td>\n",
       "    </tr>\n",
       "    <tr>\n",
       "      <th>41</th>\n",
       "      <td>69.2167</td>\n",
       "      <td>-51.1</td>\n",
       "      <td>257.16</td>\n",
       "      <td>51</td>\n",
       "      <td>100</td>\n",
       "      <td>7.2</td>\n",
       "      <td>GL</td>\n",
       "      <td>1644112010</td>\n",
       "    </tr>\n",
       "    <tr>\n",
       "      <th>42</th>\n",
       "      <td>65.282</td>\n",
       "      <td>-126.8329</td>\n",
       "      <td>245.17</td>\n",
       "      <td>69</td>\n",
       "      <td>40</td>\n",
       "      <td>1.03</td>\n",
       "      <td>CA</td>\n",
       "      <td>1644112010</td>\n",
       "    </tr>\n",
       "    <tr>\n",
       "      <th>43</th>\n",
       "      <td>-3.6954</td>\n",
       "      <td>128.1814</td>\n",
       "      <td>305.23</td>\n",
       "      <td>58</td>\n",
       "      <td>40</td>\n",
       "      <td>2.57</td>\n",
       "      <td>ID</td>\n",
       "      <td>1644112010</td>\n",
       "    </tr>\n",
       "    <tr>\n",
       "      <th>44</th>\n",
       "      <td>21.0917</td>\n",
       "      <td>-87.45</td>\n",
       "      <td>296.06</td>\n",
       "      <td>95</td>\n",
       "      <td>29</td>\n",
       "      <td>1.62</td>\n",
       "      <td>MX</td>\n",
       "      <td>1644112011</td>\n",
       "    </tr>\n",
       "    <tr>\n",
       "      <th>45</th>\n",
       "      <td>16.4667</td>\n",
       "      <td>107.6</td>\n",
       "      <td>290.21</td>\n",
       "      <td>100</td>\n",
       "      <td>75</td>\n",
       "      <td>2.06</td>\n",
       "      <td>VN</td>\n",
       "      <td>1644112011</td>\n",
       "    </tr>\n",
       "    <tr>\n",
       "      <th>46</th>\n",
       "      <td>-34.4187</td>\n",
       "      <td>19.2345</td>\n",
       "      <td>294.21</td>\n",
       "      <td>90</td>\n",
       "      <td>49</td>\n",
       "      <td>4.41</td>\n",
       "      <td>ZA</td>\n",
       "      <td>1644112011</td>\n",
       "    </tr>\n",
       "    <tr>\n",
       "      <th>47</th>\n",
       "      <td>73.5069</td>\n",
       "      <td>80.5464</td>\n",
       "      <td>243.85</td>\n",
       "      <td>100</td>\n",
       "      <td>98</td>\n",
       "      <td>1.67</td>\n",
       "      <td>RU</td>\n",
       "      <td>1644112012</td>\n",
       "    </tr>\n",
       "    <tr>\n",
       "      <th>49</th>\n",
       "      <td>16.8634</td>\n",
       "      <td>-99.8901</td>\n",
       "      <td>300.05</td>\n",
       "      <td>78</td>\n",
       "      <td>0</td>\n",
       "      <td>3.6</td>\n",
       "      <td>MX</td>\n",
       "      <td>1644111849</td>\n",
       "    </tr>\n",
       "  </tbody>\n",
       "</table>\n",
       "</div>"
      ],
      "text/plain": [
       "        lat       lng max temp humidity cloudiness wind speed country  \\\n",
       "0  -42.7826  147.0587   295.77       39          0       0.89      AU   \n",
       "1      21.7  104.8667   287.06       81         88       0.44      VN   \n",
       "2   42.2249 -121.7817    280.1       39          0       2.57      US   \n",
       "3   57.2169   94.8978   265.32       92        100       3.02      RU   \n",
       "4     -46.6  168.3333   288.04       59         14       4.94      NZ   \n",
       "5  -43.3002  -65.1023   289.28       52         95       5.78      AR   \n",
       "6      -9.8 -139.0333   299.31       75         30       9.41      PF   \n",
       "7  -21.3585   55.7679   298.92       84         99       8.13      RE   \n",
       "8  -21.2078  -159.775   301.18       78         20        7.2      CK   \n",
       "9  -15.1961   12.1522    295.5       67         85       3.96      AO   \n",
       "10 -38.0023  -57.5575   290.42       75         75       0.45      AR   \n",
       "11   0.0847  -76.8828   294.88       98         88       0.69      EC   \n",
       "12   42.097  -79.2353   262.22       72          0          0      US   \n",
       "13 -29.9078  -71.2542   289.88       88         75       3.09      CL   \n",
       "14  45.5234 -122.6762   283.12       80         75       0.45      US   \n",
       "15   -53.15  -70.9167   286.21       62         40       4.12      CL   \n",
       "16 -46.2817  169.8464   285.89       60         62       3.59      NZ   \n",
       "17  60.5697   27.1979   271.75       99         28       2.14      FI   \n",
       "18  68.2191 -135.0107   237.61       88         60       0.27      CA   \n",
       "19 -33.0153   27.9116   294.09       89         96       7.12      ZA   \n",
       "20  19.9333   -105.25   293.65       83         87       1.12      MX   \n",
       "21   2.7739    27.616   291.53       35        100       0.99      CD   \n",
       "22 -42.8794  147.3294   295.96       48         20       0.45      AU   \n",
       "23  45.0617  -83.4327   266.33       73        100       2.68      US   \n",
       "25  57.7209   10.5839   278.76       76        100      11.76      DK   \n",
       "27 -24.7911  -50.0119   291.39       97        100       1.07      BR   \n",
       "28  -3.9014  -38.3911   301.03       80          1       3.07      BR   \n",
       "29  19.7297   -155.09      299       78         75       5.14      US   \n",
       "30  -0.7193    8.7815    299.2       82         15       4.69      GA   \n",
       "31   3.0707  172.7902   301.36       74         90       7.87      KI   \n",
       "32  26.4852   50.0405   289.14       48          0       6.28      SA   \n",
       "33  68.0531   39.5131   263.71       84        100      12.76      RU   \n",
       "34 -13.8833    167.55      301       80         98       9.29      VU   \n",
       "35   51.226  -58.6502   256.57       90        100       8.53      CA   \n",
       "36   62.456 -114.3525   246.71       86         20       2.57      CA   \n",
       "37  47.1666  -55.1483   274.74      100        100       0.89      CA   \n",
       "38 -14.0833  -70.4333   275.79       95        100       0.64      PE   \n",
       "39    61.67     96.37   256.71       98         89        1.8      RU   \n",
       "40    -54.8     -68.3   282.96       57         20       8.23      AR   \n",
       "41  69.2167     -51.1   257.16       51        100        7.2      GL   \n",
       "42   65.282 -126.8329   245.17       69         40       1.03      CA   \n",
       "43  -3.6954  128.1814   305.23       58         40       2.57      ID   \n",
       "44  21.0917    -87.45   296.06       95         29       1.62      MX   \n",
       "45  16.4667     107.6   290.21      100         75       2.06      VN   \n",
       "46 -34.4187   19.2345   294.21       90         49       4.41      ZA   \n",
       "47  73.5069   80.5464   243.85      100         98       1.67      RU   \n",
       "49  16.8634  -99.8901   300.05       78          0        3.6      MX   \n",
       "\n",
       "          date  \n",
       "0   1644111995  \n",
       "1   1644111996  \n",
       "2   1644111873  \n",
       "3   1644111997  \n",
       "4   1644111997  \n",
       "5   1644111997  \n",
       "6   1644111998  \n",
       "7   1644111998  \n",
       "8   1644111998  \n",
       "9   1644111999  \n",
       "10  1644111843  \n",
       "11  1644111999  \n",
       "12  1644111450  \n",
       "13  1644112000  \n",
       "14  1644111325  \n",
       "15  1644112001  \n",
       "16  1644112001  \n",
       "17  1644112001  \n",
       "18  1644112002  \n",
       "19  1644111911  \n",
       "20  1644112002  \n",
       "21  1644112003  \n",
       "22  1644111999  \n",
       "23  1644112003  \n",
       "25  1644112004  \n",
       "27  1644112004  \n",
       "28  1644112005  \n",
       "29  1644111839  \n",
       "30  1644112005  \n",
       "31  1644112005  \n",
       "32  1644112006  \n",
       "33  1644112007  \n",
       "34  1644112007  \n",
       "35  1644112007  \n",
       "36  1644112008  \n",
       "37  1644112008  \n",
       "38  1644112009  \n",
       "39  1644111893  \n",
       "40  1644112009  \n",
       "41  1644112010  \n",
       "42  1644112010  \n",
       "43  1644112010  \n",
       "44  1644112011  \n",
       "45  1644112011  \n",
       "46  1644112011  \n",
       "47  1644112012  \n",
       "49  1644111849  "
      ]
     },
     "execution_count": 25,
     "metadata": {},
     "output_type": "execute_result"
    }
   ],
   "source": [
    "# export to csv\n",
    "weather_data.to_csv(\"../output_data/weather_data.csv\")\n",
    "weather_data"
   ]
  },
  {
   "cell_type": "code",
   "execution_count": null,
   "metadata": {},
   "outputs": [],
   "source": []
  },
  {
   "cell_type": "markdown",
   "metadata": {},
   "source": [
    "## Inspect the data and remove the cities where the humidity > 100%.\n",
    "----\n",
    "Skip this step if there are no cities that have humidity > 100%. "
   ]
  },
  {
   "cell_type": "code",
   "execution_count": null,
   "metadata": {},
   "outputs": [],
   "source": []
  },
  {
   "cell_type": "code",
   "execution_count": 26,
   "metadata": {},
   "outputs": [
    {
     "data": {
      "text/html": [
       "<div>\n",
       "<style scoped>\n",
       "    .dataframe tbody tr th:only-of-type {\n",
       "        vertical-align: middle;\n",
       "    }\n",
       "\n",
       "    .dataframe tbody tr th {\n",
       "        vertical-align: top;\n",
       "    }\n",
       "\n",
       "    .dataframe thead th {\n",
       "        text-align: right;\n",
       "    }\n",
       "</style>\n",
       "<table border=\"1\" class=\"dataframe\">\n",
       "  <thead>\n",
       "    <tr style=\"text-align: right;\">\n",
       "      <th></th>\n",
       "      <th>lat</th>\n",
       "      <th>lng</th>\n",
       "      <th>max temp</th>\n",
       "      <th>humidity</th>\n",
       "      <th>cloudiness</th>\n",
       "      <th>wind speed</th>\n",
       "      <th>country</th>\n",
       "      <th>date</th>\n",
       "    </tr>\n",
       "  </thead>\n",
       "  <tbody>\n",
       "  </tbody>\n",
       "</table>\n",
       "</div>"
      ],
      "text/plain": [
       "Empty DataFrame\n",
       "Columns: [lat, lng, max temp, humidity, cloudiness, wind speed, country, date]\n",
       "Index: []"
      ]
     },
     "execution_count": 26,
     "metadata": {},
     "output_type": "execute_result"
    }
   ],
   "source": [
    "#  Get the indices of cities that have humidity over 100%.\n",
    "weather_data.loc[ weather_data[\"humidity\"] > 100, : ]"
   ]
  },
  {
   "cell_type": "code",
   "execution_count": 31,
   "metadata": {},
   "outputs": [
    {
     "data": {
      "text/html": [
       "<div>\n",
       "<style scoped>\n",
       "    .dataframe tbody tr th:only-of-type {\n",
       "        vertical-align: middle;\n",
       "    }\n",
       "\n",
       "    .dataframe tbody tr th {\n",
       "        vertical-align: top;\n",
       "    }\n",
       "\n",
       "    .dataframe thead th {\n",
       "        text-align: right;\n",
       "    }\n",
       "</style>\n",
       "<table border=\"1\" class=\"dataframe\">\n",
       "  <thead>\n",
       "    <tr style=\"text-align: right;\">\n",
       "      <th></th>\n",
       "      <th>lat</th>\n",
       "      <th>lng</th>\n",
       "      <th>max temp</th>\n",
       "      <th>humidity</th>\n",
       "      <th>cloudiness</th>\n",
       "      <th>wind speed</th>\n",
       "      <th>country</th>\n",
       "      <th>date</th>\n",
       "    </tr>\n",
       "  </thead>\n",
       "  <tbody>\n",
       "    <tr>\n",
       "      <th>0</th>\n",
       "      <td>-42.7826</td>\n",
       "      <td>147.0587</td>\n",
       "      <td>295.77</td>\n",
       "      <td>39</td>\n",
       "      <td>0</td>\n",
       "      <td>0.89</td>\n",
       "      <td>AU</td>\n",
       "      <td>1644111995</td>\n",
       "    </tr>\n",
       "    <tr>\n",
       "      <th>1</th>\n",
       "      <td>21.7</td>\n",
       "      <td>104.8667</td>\n",
       "      <td>287.06</td>\n",
       "      <td>81</td>\n",
       "      <td>88</td>\n",
       "      <td>0.44</td>\n",
       "      <td>VN</td>\n",
       "      <td>1644111996</td>\n",
       "    </tr>\n",
       "    <tr>\n",
       "      <th>2</th>\n",
       "      <td>42.2249</td>\n",
       "      <td>-121.7817</td>\n",
       "      <td>280.1</td>\n",
       "      <td>39</td>\n",
       "      <td>0</td>\n",
       "      <td>2.57</td>\n",
       "      <td>US</td>\n",
       "      <td>1644111873</td>\n",
       "    </tr>\n",
       "    <tr>\n",
       "      <th>3</th>\n",
       "      <td>57.2169</td>\n",
       "      <td>94.8978</td>\n",
       "      <td>265.32</td>\n",
       "      <td>92</td>\n",
       "      <td>100</td>\n",
       "      <td>3.02</td>\n",
       "      <td>RU</td>\n",
       "      <td>1644111997</td>\n",
       "    </tr>\n",
       "    <tr>\n",
       "      <th>4</th>\n",
       "      <td>-46.6</td>\n",
       "      <td>168.3333</td>\n",
       "      <td>288.04</td>\n",
       "      <td>59</td>\n",
       "      <td>14</td>\n",
       "      <td>4.94</td>\n",
       "      <td>NZ</td>\n",
       "      <td>1644111997</td>\n",
       "    </tr>\n",
       "  </tbody>\n",
       "</table>\n",
       "</div>"
      ],
      "text/plain": [
       "       lat       lng max temp humidity cloudiness wind speed country  \\\n",
       "0 -42.7826  147.0587   295.77       39          0       0.89      AU   \n",
       "1     21.7  104.8667   287.06       81         88       0.44      VN   \n",
       "2  42.2249 -121.7817    280.1       39          0       2.57      US   \n",
       "3  57.2169   94.8978   265.32       92        100       3.02      RU   \n",
       "4    -46.6  168.3333   288.04       59         14       4.94      NZ   \n",
       "\n",
       "         date  \n",
       "0  1644111995  \n",
       "1  1644111996  \n",
       "2  1644111873  \n",
       "3  1644111997  \n",
       "4  1644111997  "
      ]
     },
     "execution_count": 31,
     "metadata": {},
     "output_type": "execute_result"
    }
   ],
   "source": [
    "# Make a new DataFrame equal to the city data to drop all humidity outliers by index.\n",
    "# Passing \"inplace=False\" will make a copy of the weather_data DataFrame, which we call \"city_df\".\n",
    "city_df = weather_data.loc[ weather_data[\"humidity\"] <= 100, : ]\n",
    "city_df.head()"
   ]
  },
  {
   "cell_type": "code",
   "execution_count": null,
   "metadata": {},
   "outputs": [],
   "source": []
  },
  {
   "cell_type": "markdown",
   "metadata": {},
   "source": [
    "## Plotting the Data\n",
    "* Use proper labeling of the plots using plot titles (including date of analysis) and axes labels.\n",
    "* Save the plotted figures as .pngs."
   ]
  },
  {
   "cell_type": "markdown",
   "metadata": {},
   "source": [
    "## Latitude vs. Temperature Plot"
   ]
  },
  {
   "cell_type": "code",
   "execution_count": 41,
   "metadata": {
    "scrolled": true
   },
   "outputs": [
    {
     "data": {
      "image/png": "[encoded data removed]",
      "text/plain": [
       "<Figure size 432x288 with 1 Axes>"
      ]
     },
     "metadata": {
      "needs_background": "light"
     },
     "output_type": "display_data"
    }
   ],
   "source": [
    "# convert columns into a series of ints\n",
    "lat = city_df['lat'].astype(float)\n",
    "temp = city_df[\"max temp\"].astype(float)\n",
    "# create scatter plot\n",
    "plt.scatter(lat, temp)\n",
    "# format plot\n",
    "plt.xlabel(\"Latitude\")\n",
    "plt.ylabel(\"Max Temperature (K)\")\n",
    "plt.title(\"City Latitude vs Temperature (02/05/2022)\")\n",
    "plt.show()"
   ]
  },
  {
   "cell_type": "markdown",
   "metadata": {},
   "source": [
    "## Latitude vs. Humidity Plot"
   ]
  },
  {
   "cell_type": "code",
   "execution_count": 36,
   "metadata": {},
   "outputs": [
    {
     "data": {
      "image/png": "[encoded data removed]",
      "text/plain": [
       "<Figure size 432x288 with 1 Axes>"
      ]
     },
     "metadata": {
      "needs_background": "light"
     },
     "output_type": "display_data"
    }
   ],
   "source": [
    "# convert columns into a series of ints\n",
    "lat = city_df['lat'].astype(float)\n",
    "humd = city_df[\"humidity\"].astype(float)\n",
    "# create scatter plot\n",
    "plt.scatter(lat, humd)\n",
    "# format plot\n",
    "plt.xlabel(\"Latitude\")\n",
    "plt.ylabel(\"Humidity (%)\")\n",
    "plt.title(\"City Latitude vs Humidity (02/05/2022)\")\n",
    "plt.show()"
   ]
  },
  {
   "cell_type": "markdown",
   "metadata": {},
   "source": [
    "## Latitude vs. Cloudiness Plot"
   ]
  },
  {
   "cell_type": "code",
   "execution_count": 35,
   "metadata": {},
   "outputs": [
    {
     "data": {
      "image/png": "[encoded data removed]",
      "text/plain": [
       "<Figure size 432x288 with 1 Axes>"
      ]
     },
     "metadata": {
      "needs_background": "light"
     },
     "output_type": "display_data"
    }
   ],
   "source": [
    "# convert columns into a series of ints\n",
    "lat = city_df['lat'].astype(float)\n",
    "cloud = city_df[\"cloudiness\"].astype(float)\n",
    "# create scatter plot\n",
    "plt.scatter(lat, cloud)\n",
    "# format plot\n",
    "plt.xlabel(\"Latitude\")\n",
    "plt.ylabel(\"Cloudiness (%)\")\n",
    "plt.title(\"City Latitude vs Cloudiness (02/05/2022)\")\n",
    "plt.show()"
   ]
  },
  {
   "cell_type": "markdown",
   "metadata": {},
   "source": [
    "## Latitude vs. Wind Speed Plot"
   ]
  },
  {
   "cell_type": "code",
   "execution_count": 34,
   "metadata": {},
   "outputs": [
    {
     "data": {
      "image/png": "[encoded data removed]",
      "text/plain": [
       "<Figure size 432x288 with 1 Axes>"
      ]
     },
     "metadata": {
      "needs_background": "light"
     },
     "output_type": "display_data"
    }
   ],
   "source": [
    "# convert columns into a series of ints\n",
    "lat = city_df['lat'].astype(float)\n",
    "wind = city_df[\"wind speed\"].astype(float)\n",
    "# create scatter plot\n",
    "plt.scatter(lat, wind)\n",
    "# format plot\n",
    "plt.xlabel(\"Latitude\")\n",
    "plt.ylabel(\"Wind Speed (mph)\")\n",
    "plt.title(\"City Latitude vs Wind Speed (02/05/2022)\")\n",
    "plt.show()"
   ]
  },
  {
   "cell_type": "markdown",
   "metadata": {},
   "source": [
    "## Linear Regression"
   ]
  },
  {
   "cell_type": "code",
   "execution_count": 39,
   "metadata": {},
   "outputs": [
    {
     "data": {
      "text/html": [
       "<div>\n",
       "<style scoped>\n",
       "    .dataframe tbody tr th:only-of-type {\n",
       "        vertical-align: middle;\n",
       "    }\n",
       "\n",
       "    .dataframe tbody tr th {\n",
       "        vertical-align: top;\n",
       "    }\n",
       "\n",
       "    .dataframe thead th {\n",
       "        text-align: right;\n",
       "    }\n",
       "</style>\n",
       "<table border=\"1\" class=\"dataframe\">\n",
       "  <thead>\n",
       "    <tr style=\"text-align: right;\">\n",
       "      <th></th>\n",
       "      <th>lat</th>\n",
       "      <th>lng</th>\n",
       "      <th>max temp</th>\n",
       "      <th>humidity</th>\n",
       "      <th>cloudiness</th>\n",
       "      <th>wind speed</th>\n",
       "      <th>country</th>\n",
       "      <th>date</th>\n",
       "    </tr>\n",
       "  </thead>\n",
       "  <tbody>\n",
       "    <tr>\n",
       "      <th>0</th>\n",
       "      <td>-42.7826</td>\n",
       "      <td>147.0587</td>\n",
       "      <td>295.77</td>\n",
       "      <td>39</td>\n",
       "      <td>0</td>\n",
       "      <td>0.89</td>\n",
       "      <td>AU</td>\n",
       "      <td>1644111995</td>\n",
       "    </tr>\n",
       "    <tr>\n",
       "      <th>4</th>\n",
       "      <td>-46.6</td>\n",
       "      <td>168.3333</td>\n",
       "      <td>288.04</td>\n",
       "      <td>59</td>\n",
       "      <td>14</td>\n",
       "      <td>4.94</td>\n",
       "      <td>NZ</td>\n",
       "      <td>1644111997</td>\n",
       "    </tr>\n",
       "    <tr>\n",
       "      <th>5</th>\n",
       "      <td>-43.3002</td>\n",
       "      <td>-65.1023</td>\n",
       "      <td>289.28</td>\n",
       "      <td>52</td>\n",
       "      <td>95</td>\n",
       "      <td>5.78</td>\n",
       "      <td>AR</td>\n",
       "      <td>1644111997</td>\n",
       "    </tr>\n",
       "    <tr>\n",
       "      <th>6</th>\n",
       "      <td>-9.8</td>\n",
       "      <td>-139.0333</td>\n",
       "      <td>299.31</td>\n",
       "      <td>75</td>\n",
       "      <td>30</td>\n",
       "      <td>9.41</td>\n",
       "      <td>PF</td>\n",
       "      <td>1644111998</td>\n",
       "    </tr>\n",
       "    <tr>\n",
       "      <th>7</th>\n",
       "      <td>-21.3585</td>\n",
       "      <td>55.7679</td>\n",
       "      <td>298.92</td>\n",
       "      <td>84</td>\n",
       "      <td>99</td>\n",
       "      <td>8.13</td>\n",
       "      <td>RE</td>\n",
       "      <td>1644111998</td>\n",
       "    </tr>\n",
       "  </tbody>\n",
       "</table>\n",
       "</div>"
      ],
      "text/plain": [
       "       lat       lng max temp humidity cloudiness wind speed country  \\\n",
       "0 -42.7826  147.0587   295.77       39          0       0.89      AU   \n",
       "4    -46.6  168.3333   288.04       59         14       4.94      NZ   \n",
       "5 -43.3002  -65.1023   289.28       52         95       5.78      AR   \n",
       "6     -9.8 -139.0333   299.31       75         30       9.41      PF   \n",
       "7 -21.3585   55.7679   298.92       84         99       8.13      RE   \n",
       "\n",
       "         date  \n",
       "0  1644111995  \n",
       "4  1644111997  \n",
       "5  1644111997  \n",
       "6  1644111998  \n",
       "7  1644111998  "
      ]
     },
     "execution_count": 39,
     "metadata": {},
     "output_type": "execute_result"
    }
   ],
   "source": [
    "north = city_df.loc[ city_df[\"lat\"] >= 0, : ]\n",
    "south = city_df.loc[ city_df[\"lat\"] < 0, : ]"
   ]
  },
  {
   "cell_type": "markdown",
   "metadata": {},
   "source": [
    "####  Northern Hemisphere - Max Temp vs. Latitude Linear Regression"
   ]
  },
  {
   "cell_type": "code",
   "execution_count": 60,
   "metadata": {},
   "outputs": [
    {
     "data": {
      "image/png": "[encoded data removed]",
      "text/plain": [
       "<Figure size 432x288 with 1 Axes>"
      ]
     },
     "metadata": {
      "needs_background": "light"
     },
     "output_type": "display_data"
    }
   ],
   "source": [
    "# convert columns into a series of ints\n",
    "n_lat = north['lat'].astype(float)\n",
    "n_temp = north[\"max temp\"].astype(float)\n",
    "# create scatter plot\n",
    "plt.scatter(n_lat, n_temp)\n",
    "# format plot\n",
    "plt.xlabel(\"Latitude\")\n",
    "plt.ylabel(\"Max Temperature (K)\")\n",
    "plt.title(\"Northern Hemisphere City Latitude vs Temperature (02/05/2022)\")\n",
    "\n",
    "# create lin regress line\n",
    "(slope, intercept, rvalue, pvalue, stderr) = linregress(n_lat, n_temp)\n",
    "# this is equation for our line\n",
    "regress_values = n_lat * slope + intercept\n",
    "line_eq = \"y = \" + str(round(slope,2)) + \"x + \" + str(round(intercept,2))\n",
    "# plot our line from above on top of scatter\n",
    "plt.plot(n_lat,regress_values,\"r-\")\n",
    "plt.annotate(line_eq,(6,265),fontsize=15,color=\"red\")\n",
    "plt.show()"
   ]
  },
  {
   "cell_type": "markdown",
   "metadata": {},
   "source": [
    "####  Southern Hemisphere - Max Temp vs. Latitude Linear Regression"
   ]
  },
  {
   "cell_type": "code",
   "execution_count": 74,
   "metadata": {},
   "outputs": [
    {
     "data": {
      "image/png": "[encoded data removed]",
      "text/plain": [
       "<Figure size 432x288 with 1 Axes>"
      ]
     },
     "metadata": {
      "needs_background": "light"
     },
     "output_type": "display_data"
    }
   ],
   "source": [
    "# convert columns into a series of ints\n",
    "s_lat = south['lat'].astype(float)\n",
    "s_temp = south[\"max temp\"].astype(float)\n",
    "# create scatter plot\n",
    "plt.scatter(s_lat, s_temp)\n",
    "# format plot\n",
    "plt.xlabel(\"Latitude\")\n",
    "plt.ylabel(\"Max Temperature (K)\")\n",
    "plt.title(\"Southern Hemisphere City Latitude vs Temperature (02/05/2022)\")\n",
    "\n",
    "# create lin regress line\n",
    "(slope, intercept, rvalue, pvalue, stderr) = linregress(s_lat, s_temp)\n",
    "# this is equation for our line\n",
    "regress_values = s_lat * slope + intercept\n",
    "line_eq = \"y = \" + str(round(slope,2)) + \"x + \" + str(round(intercept,2))\n",
    "# plot our line from above on top of scatter\n",
    "plt.plot(s_lat,regress_values,\"r-\")\n",
    "plt.annotate(line_eq,(-55,280),fontsize=15,color=\"red\")\n",
    "plt.show()"
   ]
  },
  {
   "cell_type": "markdown",
   "metadata": {},
   "source": [
    "####  Northern Hemisphere - Humidity (%) vs. Latitude Linear Regression"
   ]
  },
  {
   "cell_type": "code",
   "execution_count": 59,
   "metadata": {},
   "outputs": [
    {
     "data": {
      "image/png": "[encoded data removed]",
      "text/plain": [
       "<Figure size 432x288 with 1 Axes>"
      ]
     },
     "metadata": {
      "needs_background": "light"
     },
     "output_type": "display_data"
    }
   ],
   "source": [
    "# convert columns into a series of ints\n",
    "n_lat = north['lat'].astype(float)\n",
    "n_hum = north[\"humidity\"].astype(float)\n",
    "# create scatter plot\n",
    "plt.scatter(n_lat, n_hum)\n",
    "# format plot\n",
    "plt.xlabel(\"Latitude\")\n",
    "plt.ylabel(\"Humidity (%)\")\n",
    "plt.title(\"Northern Hemisphere City Latitude vs Humidity (02/05/2022)\")\n",
    "\n",
    "# create lin regress line\n",
    "(slope, intercept, rvalue, pvalue, stderr) = linregress(n_lat, n_hum)\n",
    "# this is equation for our line\n",
    "regress_values = n_lat * slope + intercept\n",
    "line_eq = \"y = \" + str(round(slope,2)) + \"x + \" + str(round(intercept,2))\n",
    "# plot our line from above on top of scatter\n",
    "plt.plot(n_lat,regress_values,\"r-\")\n",
    "plt.annotate(line_eq,(6,65),fontsize=15,color=\"red\")\n",
    "plt.show()"
   ]
  },
  {
   "cell_type": "markdown",
   "metadata": {},
   "source": [
    "####  Southern Hemisphere - Humidity (%) vs. Latitude Linear Regression"
   ]
  },
  {
   "cell_type": "code",
   "execution_count": 72,
   "metadata": {},
   "outputs": [
    {
     "data": {
      "image/png": "[encoded data removed]",
      "text/plain": [
       "<Figure size 432x288 with 1 Axes>"
      ]
     },
     "metadata": {
      "needs_background": "light"
     },
     "output_type": "display_data"
    }
   ],
   "source": [
    "# convert columns into a series of ints\n",
    "s_lat = south['lat'].astype(float)\n",
    "s_humid = south[\"humidity\"].astype(float)\n",
    "# create scatter plot\n",
    "plt.scatter(s_lat, s_humid)\n",
    "# format plot\n",
    "plt.xlabel(\"Latitude\")\n",
    "plt.ylabel(\"Humidity (%)\")\n",
    "plt.title(\"Southern Hemisphere City Latitude vs Humidity (02/05/2022)\")\n",
    "\n",
    "# create lin regress line\n",
    "(slope, intercept, rvalue, pvalue, stderr) = linregress(s_lat, s_humid)\n",
    "# this is equation for our line\n",
    "regress_values = s_lat * slope + intercept\n",
    "line_eq = \"y = \" + str(round(slope,2)) + \"x + \" + str(round(intercept,2))\n",
    "# plot our line from above on top of scatter\n",
    "plt.plot(s_lat,regress_values,\"r-\")\n",
    "plt.annotate(line_eq,(-55,80),fontsize=15,color=\"red\")\n",
    "plt.show()"
   ]
  },
  {
   "cell_type": "markdown",
   "metadata": {},
   "source": [
    "####  Northern Hemisphere - Cloudiness (%) vs. Latitude Linear Regression"
   ]
  },
  {
   "cell_type": "code",
   "execution_count": 58,
   "metadata": {},
   "outputs": [
    {
     "data": {
      "image/png": "[encoded data removed]",
      "text/plain": [
       "<Figure size 432x288 with 1 Axes>"
      ]
     },
     "metadata": {
      "needs_background": "light"
     },
     "output_type": "display_data"
    }
   ],
   "source": [
    "# convert columns into a series of ints\n",
    "n_lat = north['lat'].astype(float)\n",
    "n_cloud = north[\"cloudiness\"].astype(float)\n",
    "# create scatter plot\n",
    "plt.scatter(n_lat, n_cloud)\n",
    "# format plot\n",
    "plt.xlabel(\"Latitude\")\n",
    "plt.ylabel(\"Cloudiness (%)\")\n",
    "plt.title(\"Northern Hemisphere City Latitude vs Cloudiness (02/05/2022)\")\n",
    "\n",
    "# create lin regress line\n",
    "(slope, intercept, rvalue, pvalue, stderr) = linregress(n_lat, n_cloud)\n",
    "# this is equation for our line\n",
    "regress_values = n_lat * slope + intercept\n",
    "line_eq = \"y = \" + str(round(slope,2)) + \"x + \" + str(round(intercept,2))\n",
    "# plot our line from above on top of scatter\n",
    "plt.plot(n_lat,regress_values,\"r-\")\n",
    "plt.annotate(line_eq,(6,50),fontsize=15,color=\"red\")\n",
    "plt.show()"
   ]
  },
  {
   "cell_type": "markdown",
   "metadata": {},
   "source": [
    "####  Southern Hemisphere - Cloudiness (%) vs. Latitude Linear Regression"
   ]
  },
  {
   "cell_type": "code",
   "execution_count": 69,
   "metadata": {},
   "outputs": [
    {
     "data": {
      "image/png": "[encoded data removed]",
      "text/plain": [
       "<Figure size 432x288 with 1 Axes>"
      ]
     },
     "metadata": {
      "needs_background": "light"
     },
     "output_type": "display_data"
    }
   ],
   "source": [
    "# convert columns into a series of ints\n",
    "s_lat = south['lat'].astype(float)\n",
    "s_cloud = south[\"cloudiness\"].astype(float)\n",
    "# create scatter plot\n",
    "plt.scatter(s_lat, s_cloud)\n",
    "# format plot\n",
    "plt.xlabel(\"Latitude\")\n",
    "plt.ylabel(\"Cloudiness (%)\")\n",
    "plt.title(\"Southern Hemisphere City Latitude vs Cloudiness (02/05/2022)\")\n",
    "\n",
    "# create lin regress line\n",
    "(slope, intercept, rvalue, pvalue, stderr) = linregress(s_lat, s_cloud)\n",
    "# this is equation for our line\n",
    "regress_values = s_lat * slope + intercept\n",
    "line_eq = \"y = \" + str(round(slope,2)) + \"x + \" + str(round(intercept,2))\n",
    "# plot our line from above on top of scatter\n",
    "plt.plot(s_lat,regress_values,\"r-\")\n",
    "plt.annotate(line_eq,(-55,25),fontsize=15,color=\"red\")\n",
    "plt.show()"
   ]
  },
  {
   "cell_type": "markdown",
   "metadata": {},
   "source": [
    "####  Northern Hemisphere - Wind Speed (mph) vs. Latitude Linear Regression"
   ]
  },
  {
   "cell_type": "code",
   "execution_count": 64,
   "metadata": {},
   "outputs": [
    {
     "data": {
      "image/png": "[encoded data removed]",
      "text/plain": [
       "<Figure size 432x288 with 1 Axes>"
      ]
     },
     "metadata": {
      "needs_background": "light"
     },
     "output_type": "display_data"
    }
   ],
   "source": [
    "# convert columns into a series of ints\n",
    "n_lat = north['lat'].astype(float)\n",
    "n_wind = north[\"wind speed\"].astype(float)\n",
    "# create scatter plot\n",
    "plt.scatter(n_lat, n_wind)\n",
    "# format plot\n",
    "plt.xlabel(\"Latitude\")\n",
    "plt.ylabel(\"Wind Speed (mph)\")\n",
    "plt.title(\"Northern Hemisphere City Latitude vs Wind Speed (02/05/2022)\")\n",
    "\n",
    "# create lin regress line\n",
    "(slope, intercept, rvalue, pvalue, stderr) = linregress(n_lat, n_wind)\n",
    "# this is equation for our line\n",
    "regress_values = n_lat * slope + intercept\n",
    "line_eq = \"y = \" + str(round(slope,2)) + \"x + \" + str(round(intercept,2))\n",
    "# plot our line from above on top of scatter\n",
    "plt.plot(n_lat,regress_values,\"r-\")\n",
    "plt.annotate(line_eq,(6,8),fontsize=15,color=\"red\")\n",
    "plt.show()"
   ]
  },
  {
   "cell_type": "markdown",
   "metadata": {},
   "source": [
    "####  Southern Hemisphere - Wind Speed (mph) vs. Latitude Linear Regression"
   ]
  },
  {
   "cell_type": "code",
   "execution_count": 67,
   "metadata": {},
   "outputs": [
    {
     "data": {
      "image/png": "[encoded data removed]",
      "text/plain": [
       "<Figure size 432x288 with 1 Axes>"
      ]
     },
     "metadata": {
      "needs_background": "light"
     },
     "output_type": "display_data"
    }
   ],
   "source": [
    "# convert columns into a series of ints\n",
    "s_lat = south['lat'].astype(float)\n",
    "s_wind = south[\"wind speed\"].astype(float)\n",
    "# create scatter plot\n",
    "plt.scatter(s_lat, s_wind)\n",
    "# format plot\n",
    "plt.xlabel(\"Latitude\")\n",
    "plt.ylabel(\"Wind Speed (mph)\")\n",
    "plt.title(\"Southern Hemisphere City Latitude vs Wind Speed (02/05/2022)\")\n",
    "\n",
    "# create lin regress line\n",
    "(slope, intercept, rvalue, pvalue, stderr) = linregress(s_lat, s_wind)\n",
    "# this is equation for our line\n",
    "regress_values = s_lat * slope + intercept\n",
    "line_eq = \"y = \" + str(round(slope,2)) + \"x + \" + str(round(intercept,2))\n",
    "# plot our line from above on top of scatter\n",
    "plt.plot(s_lat,regress_values,\"r-\")\n",
    "plt.annotate(line_eq,(-55,2),fontsize=15,color=\"red\")\n",
    "plt.show()"
   ]
  },
  {
   "cell_type": "code",
   "execution_count": null,
   "metadata": {},
   "outputs": [],
   "source": []
  }
 ],
 "metadata": {
  "anaconda-cloud": {},
  "kernel_info": {
   "name": "python3"
  },
  "kernelspec": {
   "display_name": "Python 3 (ipykernel)",
   "language": "python",
   "name": "python3"
  },
  "language_info": {
   "codemirror_mode": {
    "name": "ipython",
    "version": 3
   },
   "file_extension": ".py",
   "mimetype": "text/x-python",
   "name": "python",
   "nbconvert_exporter": "python",
   "pygments_lexer": "ipython3",
   "version": "3.9.7"
  },
  "latex_envs": {
   "LaTeX_envs_menu_present": true,
   "autoclose": false,
   "autocomplete": true,
   "bibliofile": "biblio.bib",
   "cite_by": "apalike",
   "current_citInitial": 1,
   "eqLabelWithNumbers": true,
   "eqNumInitial": 1,
   "hotkeys": {
    "equation": "Ctrl-E",
    "itemize": "Ctrl-I"
   },
   "labels_anchors": false,
   "latex_user_defs": false,
   "report_style_numbering": false,
   "user_envs_cfg": false
  },
  "nteract": {
   "version": "0.12.3"
  }
 },
 "nbformat": 4,
 "nbformat_minor": 4
}
